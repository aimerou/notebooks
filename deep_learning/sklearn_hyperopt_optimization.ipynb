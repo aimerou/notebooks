{
  "nbformat": 4,
  "nbformat_minor": 0,
  "metadata": {
    "colab": {
      "name": "sklearn_hyperopt_optimization.ipynb",
      "provenance": [],
      "collapsed_sections": [],
      "authorship_tag": "ABX9TyMud55T+WIWze8KaHJCp3NB",
      "include_colab_link": true
    },
    "kernelspec": {
      "name": "python3",
      "display_name": "Python 3"
    },
    "language_info": {
      "name": "python"
    }
  },
  "cells": [
    {
      "cell_type": "markdown",
      "metadata": {
        "id": "view-in-github",
        "colab_type": "text"
      },
      "source": [
        "<a href=\"https://colab.research.google.com/github/aimerou/deep-learning/blob/main/notebooks/sklearn_hyperopt_optimization.ipynb\" target=\"_parent\"><img src=\"https://colab.research.google.com/assets/colab-badge.svg\" alt=\"Open In Colab\"/></a>"
      ]
    },
    {
      "cell_type": "code",
      "metadata": {
        "id": "Jhw6zc4g1flE"
      },
      "source": [
        "!pip install hyperopt"
      ],
      "execution_count": null,
      "outputs": []
    },
    {
      "cell_type": "code",
      "metadata": {
        "id": "JZgE1W5G1lOq"
      },
      "source": [
        "from sklearn import datasets, svm\n",
        "from sklearn.ensemble import RandomForestClassifier\n",
        "from sklearn.model_selection import train_test_split\n",
        "import hyperopt\n",
        "from hyperopt import hp, fmin, tpe, Trials\n",
        "from hyperopt.pyll import scope"
      ],
      "execution_count": 2,
      "outputs": []
    },
    {
      "cell_type": "code",
      "metadata": {
        "id": "YO_PEUyo2KiG"
      },
      "source": [
        "# import some data to play with\n",
        "iris = datasets.load_iris()\n",
        "# Take the first two features. We could avoid this by using a two-dim dataset\n",
        "X = iris.data[:, :2]\n",
        "y = iris.target\n",
        "X_train, X_test, y_train, y_test = train_test_split(X, y, test_size=0.2)"
      ],
      "execution_count": 3,
      "outputs": []
    },
    {
      "cell_type": "code",
      "metadata": {
        "id": "y057cGSt5ZON"
      },
      "source": [
        "def get_clf(params):\n",
        "  if params['type'] == 'svm':\n",
        "    clf = svm.SVC(kernel=params['kernel'], C=params['C'])\n",
        "  elif params['type'] =='random_forest':\n",
        "    clf = RandomForestClassifier(n_estimators=params['n_estimators'],criterion=params['criterion'], max_depth=params['max_depth'])\n",
        "  return clf\n",
        "\n",
        "def objective(params):\n",
        "  clf = get_clf(params)\n",
        "  clf.fit(X_train, y_train)\n",
        "  score = -1 * clf.score(X_test, y_test)\n",
        "  return score"
      ],
      "execution_count": 4,
      "outputs": []
    },
    {
      "cell_type": "code",
      "metadata": {
        "id": "qk976sle5eZi"
      },
      "source": [
        "space = hp.choice('classifier_type', [\n",
        "    {\n",
        "        'type': 'svm',\n",
        "        'C': hp.lognormal('svm_C', 0, 1),\n",
        "        'kernel': hp.choice('svm_kernel', ['linear', 'rbf'])\n",
        "    },\n",
        "    {\n",
        "        'type': 'random_forest',\n",
        "        'n_estimators': scope.int(hp.uniform('rf_n_estimators', 10, 100)),\n",
        "        'criterion': hp.choice('rf_criterion', ['gini', 'entropy']),\n",
        "        'max_depth': hp.uniform('rf_max_depth_int', 0, 5)\n",
        "    }\n",
        "])"
      ],
      "execution_count": 6,
      "outputs": []
    },
    {
      "cell_type": "code",
      "metadata": {
        "colab": {
          "base_uri": "https://localhost:8080/"
        },
        "id": "b5v9aWQ65gsT",
        "outputId": "2ec2b3fe-f99d-49c3-ff77-c888efe538ae"
      },
      "source": [
        "trials = Trials()\n",
        "best = fmin(objective, space, algo=tpe.suggest, trials=trials, max_evals=100)"
      ],
      "execution_count": 7,
      "outputs": [
        {
          "output_type": "stream",
          "text": [
            "100%|██████████| 100/100 [00:34<00:00,  2.92it/s, best loss: -0.8666666666666667]\n"
          ],
          "name": "stdout"
        }
      ]
    },
    {
      "cell_type": "code",
      "metadata": {
        "colab": {
          "base_uri": "https://localhost:8080/"
        },
        "id": "RvatBUGxYQEN",
        "outputId": "9a630bb8-6354-4eee-a664-a0708cd01786"
      },
      "source": [
        "best_params = hyperopt.space_eval(space, best)\n",
        "clf = get_clf(best_params)\n",
        "clf.fit(X_train, y_train)\n",
        "print(f\"Best Model : {best_params}, Score : {clf.score(X_test, y_test)}\")"
      ],
      "execution_count": 8,
      "outputs": [
        {
          "output_type": "stream",
          "text": [
            "Best Model : {'C': 46213.95718173061, 'kernel': 'rbf', 'type': 'svm'}, Score : 0.8666666666666667\n"
          ],
          "name": "stdout"
        }
      ]
    }
  ]
}