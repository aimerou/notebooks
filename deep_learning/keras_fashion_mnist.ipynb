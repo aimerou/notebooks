{
  "nbformat": 4,
  "nbformat_minor": 0,
  "metadata": {
    "colab": {
      "name": "keras_fashion_mnist.ipynb",
      "provenance": [],
      "collapsed_sections": [],
      "authorship_tag": "ABX9TyNQYnXZSRwJ2mPVD5ly8IhE",
      "include_colab_link": true
    },
    "kernelspec": {
      "name": "python3",
      "display_name": "Python 3"
    },
    "language_info": {
      "name": "python"
    },
    "accelerator": "TPU"
  },
  "cells": [
    {
      "cell_type": "markdown",
      "metadata": {
        "id": "view-in-github",
        "colab_type": "text"
      },
      "source": [
        "<a href=\"https://colab.research.google.com/github/aimerou/deep-learning/blob/main/notebooks/keras_fashion_mnist.ipynb\" target=\"_parent\"><img src=\"https://colab.research.google.com/assets/colab-badge.svg\" alt=\"Open In Colab\"/></a>"
      ]
    },
    {
      "cell_type": "markdown",
      "metadata": {
        "id": "Nr5eqHQdZ9Fu"
      },
      "source": [
        "**Train on TPU**  \n",
        "1. On the main menu, click Runtime and select Change runtime type. Set \"TPU\" as the hardware accelerator.\n",
        "2. Click Runtime again and select Runtime > Run All."
      ]
    },
    {
      "cell_type": "code",
      "metadata": {
        "id": "QVnOFozOocf5"
      },
      "source": [
        "import distutils\n",
        "import os\n",
        "import tensorflow as tf\n",
        "from keras.models import Sequential\n",
        "from keras.layers import Dense, BatchNormalization, Dropout, Conv2D, MaxPooling2D, Flatten\n",
        "import numpy as np\n",
        "from matplotlib import pyplot"
      ],
      "execution_count": 1,
      "outputs": []
    },
    {
      "cell_type": "markdown",
      "metadata": {
        "id": "5a0IzTEuaasY"
      },
      "source": [
        "**Load Fashion MNIST dataset**"
      ]
    },
    {
      "cell_type": "code",
      "metadata": {
        "id": "ghGnp6fjo0YX"
      },
      "source": [
        "(X_train, y_train), (X_test, y_test) = tf.keras.datasets.fashion_mnist.load_data()\n",
        "X_train = X_train.reshape(X_train.shape[0], X_train.shape[1], X_train.shape[2], 1)\n",
        "X_test = X_test.reshape(X_test.shape[0], X_test.shape[1], X_test.shape[2], 1)"
      ],
      "execution_count": null,
      "outputs": []
    },
    {
      "cell_type": "code",
      "metadata": {
        "colab": {
          "base_uri": "https://localhost:8080/"
        },
        "id": "fOBC1Ey4o_Rz",
        "outputId": "33130a23-88cb-4a47-8378-e98e284ff20c"
      },
      "source": [
        "X_train.shape"
      ],
      "execution_count": 3,
      "outputs": [
        {
          "output_type": "execute_result",
          "data": {
            "text/plain": [
              "(60000, 28, 28, 1)"
            ]
          },
          "metadata": {
            "tags": []
          },
          "execution_count": 3
        }
      ]
    },
    {
      "cell_type": "markdown",
      "metadata": {
        "id": "A_J-2Zdgahjj"
      },
      "source": [
        "**Keras Model**"
      ]
    },
    {
      "cell_type": "code",
      "metadata": {
        "id": "RaDBmnw-pGvL"
      },
      "source": [
        "def create_model():\n",
        "  model = Sequential()\n",
        "\n",
        "  model.add(BatchNormalization(input_shape=X_train.shape[1:]))\n",
        "  model.add(Conv2D(64, kernel_size=4, padding='same', activation='relu'))\n",
        "  model.add(MaxPooling2D())\n",
        "  model.add(Dropout(0.25))\n",
        "\n",
        "  model.add(BatchNormalization(input_shape=X_train.shape[1:]))\n",
        "  model.add(Conv2D(128, kernel_size=4, padding='same', activation='relu'))\n",
        "  model.add(MaxPooling2D())\n",
        "  model.add(Dropout(0.25))\n",
        "\n",
        "  model.add(BatchNormalization(input_shape=X_train.shape[1:]))\n",
        "  model.add(Conv2D(256, kernel_size=4, padding='same', activation='relu'))\n",
        "  model.add(MaxPooling2D())\n",
        "  model.add(Dropout(0.25))\n",
        "\n",
        "  model.add(Flatten())\n",
        "  model.add(Dense(256, activation='relu'))\n",
        "  model.add(Dense(10, activation='softmax'))\n",
        "  return model"
      ],
      "execution_count": 4,
      "outputs": []
    },
    {
      "cell_type": "markdown",
      "metadata": {
        "id": "c-41TwYWapkE"
      },
      "source": [
        "**Construct the model on TPU and compile it**"
      ]
    },
    {
      "cell_type": "code",
      "metadata": {
        "id": "cXsTGkHVYId3"
      },
      "source": [
        "tf.keras.backend.clear_session()\n",
        "resolver = tf.distribute.cluster_resolver.TPUClusterResolver('grpc://' + os.environ['COLAB_TPU_ADDR'])\n",
        "tf.config.experimental_connect_to_cluster(resolver)\n",
        "\n",
        "# This is the TPU initialization code that has to be at the beginning.\n",
        "tf.tpu.experimental.initialize_tpu_system(resolver)\n",
        "strategy = tf.distribute.experimental.TPUStrategy(resolver)\n",
        "\n",
        "with strategy.scope():\n",
        "  model = create_model()\n",
        "  model.compile(optimizer=tf.keras.optimizers.Adam(learning_rate=1e-3),\n",
        "      loss='sparse_categorical_crossentropy',\n",
        "      metrics=['accuracy'])"
      ],
      "execution_count": null,
      "outputs": []
    },
    {
      "cell_type": "code",
      "metadata": {
        "colab": {
          "base_uri": "https://localhost:8080/"
        },
        "id": "_vWF8bzoZyHA",
        "outputId": "7a4c1049-cd2e-46b8-b3fd-de44901077ef"
      },
      "source": [
        "model.summary()"
      ],
      "execution_count": 6,
      "outputs": [
        {
          "output_type": "stream",
          "text": [
            "Model: \"sequential\"\n",
            "_________________________________________________________________\n",
            "Layer (type)                 Output Shape              Param #   \n",
            "=================================================================\n",
            "batch_normalization (BatchNo (None, 28, 28, 1)         4         \n",
            "_________________________________________________________________\n",
            "conv2d (Conv2D)              (None, 28, 28, 64)        1088      \n",
            "_________________________________________________________________\n",
            "max_pooling2d (MaxPooling2D) (None, 14, 14, 64)        0         \n",
            "_________________________________________________________________\n",
            "dropout (Dropout)            (None, 14, 14, 64)        0         \n",
            "_________________________________________________________________\n",
            "batch_normalization_1 (Batch (None, 14, 14, 64)        256       \n",
            "_________________________________________________________________\n",
            "conv2d_1 (Conv2D)            (None, 14, 14, 128)       131200    \n",
            "_________________________________________________________________\n",
            "max_pooling2d_1 (MaxPooling2 (None, 7, 7, 128)         0         \n",
            "_________________________________________________________________\n",
            "dropout_1 (Dropout)          (None, 7, 7, 128)         0         \n",
            "_________________________________________________________________\n",
            "batch_normalization_2 (Batch (None, 7, 7, 128)         512       \n",
            "_________________________________________________________________\n",
            "conv2d_2 (Conv2D)            (None, 7, 7, 256)         524544    \n",
            "_________________________________________________________________\n",
            "max_pooling2d_2 (MaxPooling2 (None, 3, 3, 256)         0         \n",
            "_________________________________________________________________\n",
            "dropout_2 (Dropout)          (None, 3, 3, 256)         0         \n",
            "_________________________________________________________________\n",
            "flatten (Flatten)            (None, 2304)              0         \n",
            "_________________________________________________________________\n",
            "dense (Dense)                (None, 256)               590080    \n",
            "_________________________________________________________________\n",
            "dense_1 (Dense)              (None, 10)                2570      \n",
            "=================================================================\n",
            "Total params: 1,250,254\n",
            "Trainable params: 1,249,868\n",
            "Non-trainable params: 386\n",
            "_________________________________________________________________\n"
          ],
          "name": "stdout"
        }
      ]
    },
    {
      "cell_type": "markdown",
      "metadata": {
        "id": "wJrwIdtDazFg"
      },
      "source": [
        "**Training and Validation**"
      ]
    },
    {
      "cell_type": "code",
      "metadata": {
        "colab": {
          "base_uri": "https://localhost:8080/"
        },
        "id": "td5HzjYMrV1J",
        "outputId": "2dd5972f-9a4c-48eb-ec69-51e28b585bcf"
      },
      "source": [
        "model.fit(\n",
        "    X_train.astype(np.float32), y_train.astype(np.float32),\n",
        "    epochs=10,\n",
        "    validation_data=(X_test.astype(np.float32), y_test.astype(np.float32))\n",
        ")"
      ],
      "execution_count": 7,
      "outputs": [
        {
          "output_type": "stream",
          "text": [
            "Epoch 1/10\n",
            "1875/1875 [==============================] - 37s 18ms/step - loss: 0.6084 - accuracy: 0.7904 - val_loss: 0.3516 - val_accuracy: 0.8715\n",
            "Epoch 2/10\n",
            "1875/1875 [==============================] - 30s 16ms/step - loss: 0.3058 - accuracy: 0.8878 - val_loss: 0.3052 - val_accuracy: 0.8834\n",
            "Epoch 3/10\n",
            "1875/1875 [==============================] - 31s 16ms/step - loss: 0.2683 - accuracy: 0.9012 - val_loss: 0.2704 - val_accuracy: 0.8990\n",
            "Epoch 4/10\n",
            "1875/1875 [==============================] - 31s 17ms/step - loss: 0.2469 - accuracy: 0.9087 - val_loss: 0.2498 - val_accuracy: 0.9090\n",
            "Epoch 5/10\n",
            "1875/1875 [==============================] - 31s 16ms/step - loss: 0.2292 - accuracy: 0.9134 - val_loss: 0.2463 - val_accuracy: 0.9097\n",
            "Epoch 6/10\n",
            "1875/1875 [==============================] - 31s 16ms/step - loss: 0.2204 - accuracy: 0.9174 - val_loss: 0.2441 - val_accuracy: 0.9135\n",
            "Epoch 7/10\n",
            "1875/1875 [==============================] - 31s 16ms/step - loss: 0.2109 - accuracy: 0.9211 - val_loss: 0.2608 - val_accuracy: 0.9123\n",
            "Epoch 8/10\n",
            "1875/1875 [==============================] - 30s 16ms/step - loss: 0.1994 - accuracy: 0.9252 - val_loss: 0.2513 - val_accuracy: 0.9114\n",
            "Epoch 9/10\n",
            "1875/1875 [==============================] - 30s 16ms/step - loss: 0.1872 - accuracy: 0.9285 - val_loss: 0.2384 - val_accuracy: 0.9168\n",
            "Epoch 10/10\n",
            "1875/1875 [==============================] - 31s 16ms/step - loss: 0.1833 - accuracy: 0.9314 - val_loss: 0.2840 - val_accuracy: 0.9013\n"
          ],
          "name": "stdout"
        },
        {
          "output_type": "execute_result",
          "data": {
            "text/plain": [
              "<tensorflow.python.keras.callbacks.History at 0x7fe790f2ab90>"
            ]
          },
          "metadata": {
            "tags": []
          },
          "execution_count": 7
        }
      ]
    },
    {
      "cell_type": "code",
      "metadata": {
        "id": "SaYPv_aKId2d"
      },
      "source": [
        "LABEL_NAMES = ['t_shirt', 'trouser', 'pullover', 'dress', 'coat', 'sandal', 'shirt', 'sneaker', 'bag', 'ankle_boots']\n",
        "\n",
        "%matplotlib inline\n",
        "\n",
        "def plot_predictions(images, predictions):\n",
        "  n = images.shape[0]\n",
        "  nc = int(np.ceil(n / 4))\n",
        "  f, axes = pyplot.subplots(nc, 4)\n",
        "  for i in range(nc * 4):\n",
        "    y = i // 4\n",
        "    x = i % 4\n",
        "    axes[x, y].axis('off')\n",
        "    label = LABEL_NAMES[np.argmax(predictions[i])]\n",
        "    confidence = np.max(predictions[i])\n",
        "    if i > n:\n",
        "      continue\n",
        "    axes[x, y].imshow(images[i])\n",
        "    axes[x, y].text(0.5, 0.5, label + '\\n%.3f' % confidence, fontsize=14)\n",
        "  pyplot.gcf().set_size_inches(8, 10)\n",
        "    \n",
        "plot_predictions(np.squeeze(X_test[:16]), model.predict(X_test[:16]))"
      ],
      "execution_count": null,
      "outputs": []
    }
  ]
}