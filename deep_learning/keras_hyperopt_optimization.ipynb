{
  "nbformat": 4,
  "nbformat_minor": 0,
  "metadata": {
    "colab": {
      "name": "keras_hyperopt_optimization.ipynb",
      "provenance": [],
      "collapsed_sections": [],
      "authorship_tag": "ABX9TyPdzI6U41MuEXGDku+RWkXa",
      "include_colab_link": true
    },
    "kernelspec": {
      "name": "python3",
      "display_name": "Python 3"
    },
    "language_info": {
      "name": "python"
    }
  },
  "cells": [
    {
      "cell_type": "markdown",
      "metadata": {
        "id": "view-in-github",
        "colab_type": "text"
      },
      "source": [
        "<a href=\"https://colab.research.google.com/github/aimerou/deep-learning/blob/main/notebooks/keras_hyperopt_optimization.ipynb\" target=\"_parent\"><img src=\"https://colab.research.google.com/assets/colab-badge.svg\" alt=\"Open In Colab\"/></a>"
      ]
    },
    {
      "cell_type": "code",
      "metadata": {
        "id": "6WRKWlEev82P"
      },
      "source": [
        "# Install the PyDrive wrapper & import libraries.\n",
        "!pip install -U -q PyDrive\n",
        "from pydrive.auth import GoogleAuth\n",
        "from pydrive.drive import GoogleDrive\n",
        "from google.colab import auth\n",
        "from oauth2client.client import GoogleCredentials\n",
        "\n",
        "# Authenticate and create the PyDrive client.\n",
        "auth.authenticate_user()\n",
        "gauth = GoogleAuth()\n",
        "gauth.credentials = GoogleCredentials.get_application_default()\n",
        "drive = GoogleDrive(gauth)\n",
        "\n",
        "# Copy/download the file\n",
        "fid = drive.ListFile({'q':\"title='keras_hyperopt_optimization.ipynb'\"}).GetList()[0]['id']\n",
        "f = drive.CreateFile({'id': fid})\n",
        "f.GetContentFile('keras_hyperopt_optimization.ipynb')"
      ],
      "execution_count": null,
      "outputs": []
    },
    {
      "cell_type": "code",
      "metadata": {
        "id": "BcXxl1jrxWiN"
      },
      "source": [
        "!pip install hyperopt\n",
        "!pip install hyperas\n",
        "!pip install tensorflow"
      ],
      "execution_count": null,
      "outputs": []
    },
    {
      "cell_type": "code",
      "metadata": {
        "id": "BxNA9IbVwIeX"
      },
      "source": [
        "from hyperopt import Trials, STATUS_OK, tpe\n",
        "from hyperas import optim\n",
        "from hyperas.distributions import choice, uniform\n",
        "import tensorflow as tf\n",
        "from tensorflow.keras.models import Sequential\n",
        "from tensorflow.keras.layers import Dense, Dropout\n",
        "from tensorflow.keras.utils import to_categorical"
      ],
      "execution_count": 3,
      "outputs": []
    },
    {
      "cell_type": "code",
      "metadata": {
        "id": "BUrBww5YwoWZ"
      },
      "source": [
        "def data():\n",
        "    \"\"\"\n",
        "    Data providing function:\n",
        "\n",
        "    This function is separated from model() so that hyperopt\n",
        "    won't reload data for each evaluation run.\n",
        "    \"\"\"\n",
        "    (x_train, y_train), (x_test, y_test) = tf.keras.datasets.mnist.load_data(path=\"mnist.npz\")\n",
        "    x_train = x_train.reshape(x_train.shape[0], 784)\n",
        "    x_test = x_test.reshape(x_test.shape[0], 784)\n",
        "    y_train = to_categorical(y_train)\n",
        "    y_test = to_categorical(y_test)\n",
        "    return x_train, y_train, x_test, y_test"
      ],
      "execution_count": 4,
      "outputs": []
    },
    {
      "cell_type": "code",
      "metadata": {
        "id": "t3wM5THDw4S_"
      },
      "source": [
        "def model(x_train, y_train, x_test, y_test):\n",
        "    \"\"\"\n",
        "    Model providing function:\n",
        "\n",
        "    Create Keras model with double curly brackets dropped-in as needed.\n",
        "    Return value has to be a valid python dictionary with two customary keys:\n",
        "        - loss: Specify a numeric evaluation metric to be minimized\n",
        "        - status: Just use STATUS_OK and see hyperopt documentation if not feasible\n",
        "    The last one is optional, though recommended, namely:\n",
        "        - model: specify the model just created so that we can later use it again.\n",
        "    \"\"\"\n",
        "    model_mlp = Sequential()\n",
        "    model_mlp.add(Dense({{choice([32, 64, 128, 256, 512])}}, activation='relu', input_shape= (784,)))\n",
        "    model_mlp.add(Dense(10, activation='softmax'))\n",
        "    model_mlp.compile(loss='categorical_crossentropy', metrics=['accuracy'], optimizer='adam')\n",
        "    \n",
        "    model_mlp.fit(x_train, y_train,\n",
        "          epochs=50,\n",
        "          verbose=False,\n",
        "          validation_data=(x_test, y_test))\n",
        "    score, acc = model_mlp.evaluate(x_test, y_test, verbose=True)\n",
        "    print('Test accuracy:', acc)\n",
        "    return {'loss': -acc, 'status': STATUS_OK, 'model': model_mlp}"
      ],
      "execution_count": 5,
      "outputs": []
    },
    {
      "cell_type": "code",
      "metadata": {
        "id": "MMuy-WRDwvOj"
      },
      "source": [
        "best_run, best_model = optim.minimize(model=model,\n",
        "                                      data=data,\n",
        "                                      algo=tpe.suggest,\n",
        "                                      max_evals=2,\n",
        "                                      notebook_name='hyperopt',\n",
        "                                      trials=Trials())"
      ],
      "execution_count": null,
      "outputs": []
    },
    {
      "cell_type": "code",
      "metadata": {
        "colab": {
          "base_uri": "https://localhost:8080/"
        },
        "id": "deXeZ3mrPrJB",
        "outputId": "bc9fb9b6-8ff9-4ad5-8082-a976f8e03ef8"
      },
      "source": [
        "X_train, Y_train, X_test, Y_test = data()\n",
        "print(\"Evalutation of best performing model:\")\n",
        "eval = best_model.evaluate(X_test, Y_test)\n",
        "print(f\"loss : {eval[0]}, accuracy : {eval[1]}\")\n",
        "print(f\"Best performing model chosen hyper-parameters : {best_run}\")"
      ],
      "execution_count": 8,
      "outputs": [
        {
          "output_type": "stream",
          "text": [
            "Evalutation of best performing model:\n",
            "313/313 [==============================] - 1s 2ms/step - loss: 1.1357 - accuracy: 0.9620\n",
            "loss : 1.135739803314209, accuracy : 0.9620000123977661\n",
            "Best performing model chosen hyper-parameters : {'Dense': 4}\n"
          ],
          "name": "stdout"
        }
      ]
    }
  ]
}